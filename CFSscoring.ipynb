{
 "cells": [
  {
   "cell_type": "code",
   "execution_count": 1,
   "metadata": {},
   "outputs": [],
   "source": [
    "import pandas as pd\n",
    "import numpy as np\n",
    "\n",
    "# Load sample data\n",
    "frailty_data = pd.read_csv('/Users/...csv')"
   ]
  },
  {
   "cell_type": "code",
   "execution_count": 2,
   "metadata": {},
   "outputs": [],
   "source": [
    "# Function to calculate CFS score\n",
    "def calculate_cfs_score(row):\n",
    "    # Extract responses\n",
    "    frailty_1 = row[[col for col in row.index if col.startswith('frailty_1')]].values\n",
    "    frailty_2 = row[[col for col in row.index if col.startswith('frailty_2')]].values\n",
    "    \n",
    "    # Scoring criteria\n",
    "    if all(item in frailty_1 for item in [\"gettingDressed\", \"eating\", \"usingToilet\", \"walkingIndependently\", \"bathing\"]):\n",
    "        return 7\n",
    "    elif any(item in frailty_1 for item in [\"gettingDressed\", \"eating\", \"usingToilet\", \"walkingIndependently\", \"bathing\"]):\n",
    "        return 6\n",
    "    elif any(item in frailty_1 for item in [\"shopping\", \"preparingFood\", \"transportation\", \"handlingMedications\", \"finances\", \"housekeeping\"]):\n",
    "        return 5\n",
    "    elif \"none\" in frailty_1 and any(item in frailty_2 for item in [\"constantlyTired\", \"walkingSlowerThanUsual\"]):\n",
    "        return 4\n",
    "    elif \"none\" in frailty_1 and \"none\" in frailty_2:\n",
    "        return 3\n",
    "    else:\n",
    "        return np.nan"
   ]
  },
  {
   "cell_type": "code",
   "execution_count": 3,
   "metadata": {},
   "outputs": [],
   "source": [
    "# Apply the function to each row\n",
    "frailty_data['CFSscore'] = frailty_data.apply(calculate_cfs_score, axis=1)\n"
   ]
  },
  {
   "cell_type": "code",
   "execution_count": 4,
   "metadata": {},
   "outputs": [],
   "source": [
    "# Map the CFSscore to CFSlabel\n",
    "def map_cfs_label(score):\n",
    "    if score == 3:\n",
    "        return \"Managing well\"\n",
    "    elif score == 4:\n",
    "        return \"Vulnerable to frailty\"\n",
    "    elif score == 5:\n",
    "        return \"Mild frailty\"\n",
    "    elif score == 6:\n",
    "        return \"Moderate frailty\"\n",
    "    elif score == 7:\n",
    "        return \"Severe frailty\"\n",
    "    else:\n",
    "        return np.nan\n",
    "\n",
    "frailty_data['CFSlabel'] = frailty_data['CFSscore'].apply(map_cfs_label)"
   ]
  },
  {
   "cell_type": "code",
   "execution_count": 5,
   "metadata": {},
   "outputs": [],
   "source": [
    "# Write the updated DataFrame to a CSV file\n",
    "frailty_data.to_csv('/Users/...csv', index=False)\n"
   ]
  }
 ],
 "metadata": {
  "kernelspec": {
   "display_name": "Python 3",
   "language": "python",
   "name": "python3"
  },
  "language_info": {
   "codemirror_mode": {
    "name": "ipython",
    "version": 3
   },
   "file_extension": ".py",
   "mimetype": "text/x-python",
   "name": "python",
   "nbconvert_exporter": "python",
   "pygments_lexer": "ipython3",
   "version": "3.10.14"
  },
  "orig_nbformat": 4
 },
 "nbformat": 4,
 "nbformat_minor": 2
}
